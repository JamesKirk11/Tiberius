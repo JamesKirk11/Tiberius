{
 "metadata": {
  "name": "",
  "signature": "sha256:b47654f3ffd04bb40f2ffbd9b6712337fd52c404ea87efaac9025ade8f3d4bc4"
 },
 "nbformat": 3,
 "nbformat_minor": 0,
 "worksheets": [
  {
   "cells": [
    {
     "cell_type": "code",
     "collapsed": false,
     "input": [
      "import numpy as np"
     ],
     "language": "python",
     "metadata": {},
     "outputs": [],
     "prompt_number": 1
    },
    {
     "cell_type": "code",
     "collapsed": false,
     "input": [
      "bins = np.array([4600,4900]+range(5200,5600,200)+range(5600,8900,100))+40"
     ],
     "language": "python",
     "metadata": {},
     "outputs": [],
     "prompt_number": 2
    },
    {
     "cell_type": "code",
     "collapsed": false,
     "input": [
      "print bins"
     ],
     "language": "python",
     "metadata": {},
     "outputs": [
      {
       "output_type": "stream",
       "stream": "stdout",
       "text": [
        "[4640 4940 5240 5440 5640 5740 5840 5940 6040 6140 6240 6340 6440 6540 6640\n",
        " 6740 6840 6940 7040 7140 7240 7340 7440 7540 7640 7740 7840 7940 8040 8140\n",
        " 8240 8340 8440 8540 8640 8740 8840]\n"
       ]
      }
     ],
     "prompt_number": 3
    },
    {
     "cell_type": "code",
     "collapsed": false,
     "input": [
      "n1_locations = ['/storage/astro2/phrbsv/ACAMdata/20160818/Final_reduction/with_sky_flat_median_filtered/fitting/wvl/bins1-10/',\\\n",
      "                '/storage/astro2/phrbsv/ACAMdata/20160818/Final_reduction/with_sky_flat_median_filtered/fitting/wvl/bins11-20/',\\\n",
      "                '/storage/astro2/phrbsv/ACAMdata/20160818/Final_reduction/with_sky_flat_median_filtered/fitting/wvl/bins21-30/',\\\n",
      "                '/storage/astro2/phrbsv/ACAMdata/20160818/Final_reduction/with_sky_flat_median_filtered/fitting/wvl/bins31-40/']\n",
      "\n",
      "n2_locations = ['/storage/astro2/phrbsv/ACAMdata/20160821/Final_reduction/with_sky_flat_median_filtered/fitting/wvl/bins1-10/',\\\n",
      "                '/storage/astro2/phrbsv/ACAMdata/20160821/Final_reduction/with_sky_flat_median_filtered/fitting/wvl/bins11-20/',\\\n",
      "                '/storage/astro2/phrbsv/ACAMdata/20160821/Final_reduction/with_sky_flat_median_filtered/fitting/wvl/bins21-30/',\\\n",
      "                '/storage/astro2/phrbsv/ACAMdata/20160821/Final_reduction/with_sky_flat_median_filtered/fitting/wvl/bins31-40/']"
     ],
     "language": "python",
     "metadata": {},
     "outputs": [],
     "prompt_number": 4
    },
    {
     "cell_type": "code",
     "collapsed": false,
     "input": [
      "for i in range(4):\n",
      "    tab1 = np.genfromtxt(n1_locations[i]+'best_fit_parameters_GP.dat')\n",
      "    tab2 = np.genfromtxt(n2_locations[i]+'best_fit_parameters_GP.dat')\n",
      "    \n",
      "    k1 = "
     ],
     "language": "python",
     "metadata": {},
     "outputs": []
    }
   ],
   "metadata": {}
  }
 ]
}